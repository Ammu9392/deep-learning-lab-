{
  "nbformat": 4,
  "nbformat_minor": 0,
  "metadata": {
    "colab": {
      "provenance": [],
      "toc_visible": true,
      "authorship_tag": "ABX9TyP/6a2YJquYX22ctwafc9PC",
      "include_colab_link": true
    },
    "kernelspec": {
      "name": "python3",
      "display_name": "Python 3"
    },
    "language_info": {
      "name": "python"
    }
  },
  "cells": [
    {
      "cell_type": "markdown",
      "metadata": {
        "id": "view-in-github",
        "colab_type": "text"
      },
      "source": [
        "<a href=\"https://colab.research.google.com/github/Ammu9392/deep-learning-lab-/blob/main/DL_EXP_8.ipynb\" target=\"_parent\"><img src=\"https://colab.research.google.com/assets/colab-badge.svg\" alt=\"Open In Colab\"/></a>"
      ]
    },
    {
      "cell_type": "code",
      "source": [
        "import numpy as np\n"
      ],
      "metadata": {
        "id": "VwF0_ugsao8-"
      },
      "execution_count": null,
      "outputs": []
    },
    {
      "cell_type": "code",
      "source": [
        "samples={'jupiter has 79 known moons.','neptune has 14 confirmed moons!'}\n",
        "token_index={}\n",
        "counter=0"
      ],
      "metadata": {
        "id": "9ZyjiCWojWyv"
      },
      "execution_count": null,
      "outputs": []
    },
    {
      "cell_type": "code",
      "source": [
        "for sample in samples:\n",
        "  for considered_word in sample.split():\n",
        "    if considered_word not in token_index:\n",
        "      token_index[considered_word]=counter+1\n",
        "      counter=counter+1"
      ],
      "metadata": {
        "id": "oZugR76JjxeG"
      },
      "execution_count": null,
      "outputs": []
    },
    {
      "cell_type": "code",
      "source": [
        "print(token_index)\n",
        "max_length=6\n",
        "results=np.zeros(shape=(len(samples),max_length,max(token_index.values())+1))"
      ],
      "metadata": {
        "colab": {
          "base_uri": "https://localhost:8080/"
        },
        "id": "dlQunKPmkP9W",
        "outputId": "0e1a2e57-10f8-4e6b-a2db-65d7ef9a3b29"
      },
      "execution_count": null,
      "outputs": [
        {
          "output_type": "stream",
          "name": "stdout",
          "text": [
            "{'jupiter': 1, 'has': 2, '79': 3, 'known': 4, 'moons.': 5, 'neptune': 6, '14': 7, 'confirmed': 8, 'moons!': 9}\n"
          ]
        }
      ]
    },
    {
      "cell_type": "code",
      "source": [
        "for i,sample in enumerate(samples):\n",
        "  for j,considered_word in enumerate(sample.split()):\n",
        "    index=token_index.get(considered_word)\n",
        "    results[i,j,index]=1.\n",
        "    print(list(enumerate(sample.split())))"
      ],
      "metadata": {
        "colab": {
          "base_uri": "https://localhost:8080/"
        },
        "id": "YHkXs-fsk4mu",
        "outputId": "2fa230e2-00e9-4456-e891-ce893d79ec51"
      },
      "execution_count": null,
      "outputs": [
        {
          "output_type": "stream",
          "name": "stdout",
          "text": [
            "[(0, 'jupiter'), (1, 'has'), (2, '79'), (3, 'known'), (4, 'moons.')]\n",
            "[(0, 'jupiter'), (1, 'has'), (2, '79'), (3, 'known'), (4, 'moons.')]\n",
            "[(0, 'jupiter'), (1, 'has'), (2, '79'), (3, 'known'), (4, 'moons.')]\n",
            "[(0, 'jupiter'), (1, 'has'), (2, '79'), (3, 'known'), (4, 'moons.')]\n",
            "[(0, 'jupiter'), (1, 'has'), (2, '79'), (3, 'known'), (4, 'moons.')]\n",
            "[(0, 'neptune'), (1, 'has'), (2, '14'), (3, 'confirmed'), (4, 'moons!')]\n",
            "[(0, 'neptune'), (1, 'has'), (2, '14'), (3, 'confirmed'), (4, 'moons!')]\n",
            "[(0, 'neptune'), (1, 'has'), (2, '14'), (3, 'confirmed'), (4, 'moons!')]\n",
            "[(0, 'neptune'), (1, 'has'), (2, '14'), (3, 'confirmed'), (4, 'moons!')]\n",
            "[(0, 'neptune'), (1, 'has'), (2, '14'), (3, 'confirmed'), (4, 'moons!')]\n"
          ]
        }
      ]
    },
    {
      "cell_type": "code",
      "source": [],
      "metadata": {
        "id": "3vbO35GSnMh-"
      },
      "execution_count": null,
      "outputs": []
    },
    {
      "cell_type": "markdown",
      "source": [],
      "metadata": {
        "id": "3_A0YuJUnM7X"
      }
    },
    {
      "cell_type": "code",
      "source": [],
      "metadata": {
        "id": "g6lqoemqlodW"
      },
      "execution_count": null,
      "outputs": []
    }
  ]
}